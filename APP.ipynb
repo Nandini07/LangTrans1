{
 "cells": [
  {
   "cell_type": "code",
   "execution_count": null,
   "id": "7817fc23",
   "metadata": {},
   "outputs": [],
   "source": [
    "import gradio as gr\n",
    "from transformers import MarianMTModel, MarianTokenizer\n",
    "\n",
    "def translate(source_language,text, target_language):\n",
    "    language_codes = {\n",
    "        \"English\" : \"en\",\n",
    "        \"Spanish\": \"es\",\n",
    "        \"French (European)\": \"fr\",\n",
    "        \"French (Canadian)\": \"fr\",\n",
    "        \"Italian\": \"it\",\n",
    "        \"Ukrainian\": \"uk\",\n",
    "        \"Portuguese (Brazilian)\": \"pt_BR\",\n",
    "        \"Portuguese (European)\": \"pt\",\n",
    "        \"Russian\": \"ru\",\n",
    "        \"Chinese\": \"zh\",\n",
    "        \"Dutch\": \"nl\",\n",
    "        \"German\": \"de\",\n",
    "        \"Arabic\": \"ar\",\n",
    "        \"Hebrew\": \"he\",\n",
    "        \"Greek\": \"el\"\n",
    "    }\n",
    "\n",
    "    target_language_code = language_codes[target_language]\n",
    "    source_language_code = language_codes[source_language] \n",
    "    model_name = f'helsinki-nlp/opus-mt-{source_language_code}-{target_language_code}'\n",
    "    \n",
    "    tokenizer = MarianTokenizer.from_pretrained(model_name)\n",
    "    model = MarianMTModel.from_pretrained(model_name)\n",
    "    inputs = tokenizer(text, return_tensors=\"pt\")\n",
    "    outputs = model.generate(**inputs)\n",
    "    translation = tokenizer.decode(outputs[0], skip_special_tokens=True)\n",
    "    return translation\n",
    "\n",
    "language_options = [\n",
    "    \"English\",\"Spanish\", \"French (European)\", \"French (Canadian)\", \"Italian\", \"Ukrainian\",\n",
    "    \"Portuguese (Brazilian)\", \"Portuguese (European)\", \"Russian\", \"Chinese\",\n",
    "    \"Dutch\", \"German\", \"Arabic\", \"Hebrew\", \"Greek\",\n",
    "    \n",
    "]\n",
    "\n",
    "\n",
    "iface = gr.Interface(\n",
    "    fn=translate,\n",
    "    inputs=[\n",
    "        gr.inputs.Dropdown(choices=language_options, label=\"Source Language\"),\n",
    "        gr.inputs.Textbox(lines=10, label=\"Enter text to translate:\"),\n",
    "        gr.inputs.Dropdown(choices=language_options, label=\"Target Language\"),\n",
    "    ],\n",
    "    outputs=gr.outputs.Textbox(label=\"Translated Text\"),\n",
    ")\n",
    "\n",
    "iface.launch(share= True)"
   ]
  }
 ],
 "metadata": {
  "kernelspec": {
   "display_name": "Python 3 (ipykernel)",
   "language": "python",
   "name": "python3"
  },
  "language_info": {
   "codemirror_mode": {
    "name": "ipython",
    "version": 3
   },
   "file_extension": ".py",
   "mimetype": "text/x-python",
   "name": "python",
   "nbconvert_exporter": "python",
   "pygments_lexer": "ipython3",
   "version": "3.9.13"
  }
 },
 "nbformat": 4,
 "nbformat_minor": 5
}
